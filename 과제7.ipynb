{
  "nbformat": 4,
  "nbformat_minor": 0,
  "metadata": {
    "colab": {
      "provenance": [],
      "authorship_tag": "ABX9TyMpDKE9PBkKWIc2ssmHdr6D",
      "include_colab_link": true
    },
    "kernelspec": {
      "name": "python3",
      "display_name": "Python 3"
    },
    "language_info": {
      "name": "python"
    }
  },
  "cells": [
    {
      "cell_type": "markdown",
      "metadata": {
        "id": "view-in-github",
        "colab_type": "text"
      },
      "source": [
        "<a href=\"https://colab.research.google.com/github/hyunmin1/first-python/blob/main/%EA%B3%BC%EC%A0%9C7.ipynb\" target=\"_parent\"><img src=\"https://colab.research.google.com/assets/colab-badge.svg\" alt=\"Open In Colab\"/></a>"
      ]
    },
    {
      "cell_type": "code",
      "execution_count": null,
      "metadata": {
        "id": "-iLhLhsTJi6d"
      },
      "outputs": [],
      "source": [
        "num = 200\n",
        "if num > 100 :\n",
        "  print(\"100보다 큽니다.\")\n",
        "  print(\"끝\")"
      ]
    },
    {
      "cell_type": "code",
      "source": [
        "num = int(input(\"정수를 입력 : \"))\n",
        "int num%2 == 0 ;\n",
        "  print(\"짝수\")\n",
        "  print(\"입니다.\") \n",
        "else :\n",
        "  print(\"홀수\")"
      ],
      "metadata": {
        "id": "NDQi60GXYLbv"
      },
      "execution_count": null,
      "outputs": []
    },
    {
      "cell_type": "code",
      "source": [
        "num = in(input(\"숫자를 입력 : \"))\n",
        "if num >= 100 :\n",
        "  if num <= 1000 :\n",
        "     print(\"100에서 1000사이다다.\")\n",
        "     else :\n",
        "  print(\"1000보다 크다.\")\n",
        "  else :\n",
        "  print(\"100보돠 작다.\")"
      ],
      "metadata": {
        "id": "VaenpGEwZNPW"
      },
      "execution_count": null,
      "outputs": []
    },
    {
      "cell_type": "code",
      "source": [
        "score = int(input(\"점수를 입력 ==> \"))\n",
        "if score >=90 ;\n",
        "    print(\"A\", end='')\n",
        "else\n",
        "if score >=80 ;\n",
        "    print(\"B\", end='')\n",
        "else\n",
        "if score >=70 ;\n",
        "    print(\"C\", end='')\n",
        "else\n",
        "if score >=60 ;\n",
        "    print(\"D\", end='')\n",
        "    \n"
      ],
      "metadata": {
        "id": "-JEv_M9ecwi-"
      },
      "execution_count": null,
      "outputs": []
    }
  ]
}