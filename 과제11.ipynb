{
  "nbformat": 4,
  "nbformat_minor": 0,
  "metadata": {
    "colab": {
      "provenance": [],
      "include_colab_link": true
    },
    "kernelspec": {
      "name": "python3",
      "display_name": "Python 3"
    },
    "language_info": {
      "name": "python"
    }
  },
  "cells": [
    {
      "cell_type": "markdown",
      "metadata": {
        "id": "view-in-github",
        "colab_type": "text"
      },
      "source": [
        "<a href=\"https://colab.research.google.com/github/hyunmin1/first-python/blob/main/%EA%B3%BC%EC%A0%9C11.ipynb\" target=\"_parent\"><img src=\"https://colab.research.google.com/assets/colab-badge.svg\" alt=\"Open In Colab\"/></a>"
      ]
    },
    {
      "cell_type": "code",
      "execution_count": null,
      "metadata": {
        "colab": {
          "base_uri": "https://localhost:8080/"
        },
        "id": "JSRRBoZXeV1l",
        "outputId": "98bf0cff-d741-48da-def5-e64cd40ef2d3"
      },
      "outputs": [
        {
          "output_type": "stream",
          "name": "stdout",
          "text": [
            "첫번째 숫자를 입력 : 1\n",
            "두번째 숫자를 입력 : 2\n",
            "세번째 숫자를 입력 : 3\n",
            "네번째 숫자를 입력 : 4\n",
            "다선번째 숫자를 입력 : 5\n",
            "리스트의 합계 :  15\n"
          ]
        }
      ],
      "source": [
        "numList = [0, 0, 0, 0, 0]\n",
        "hap = 0\n",
        "\n",
        "numList[0] = int(input(\"첫번째 숫자를 입력 : \"))\n",
        "numList[1] = int(input(\"두번째 숫자를 입력 : \"))\n",
        "numList[2] = int(input(\"세번째 숫자를 입력 : \"))\n",
        "numList[3] = int(input(\"네번째 숫자를 입력 : \"))\n",
        "numList[4] = int(input(\"다섯번째 숫자를 입력 : \"))\n",
        "\n",
        "sum = numList[0] + numList[1] + numList[2] + numList[3] + numList[4]\n",
        "print(\"리스트의 합계 : \", sum)"
      ]
    },
    {
      "cell_type": "code",
      "source": [
        "myList = []\n",
        "\n",
        "myList.append(\"안산\")\n",
        "myList.append(\"공고\")\n",
        "myList.append(3100)\n",
        "myList.append(777)\n",
        "\n",
        "print(myList)"
      ],
      "metadata": {
        "colab": {
          "base_uri": "https://localhost:8080/"
        },
        "id": "s1SET_1hoqJv",
        "outputId": "b934c465-9aed-4f2c-e937-60cf377fa244"
      },
      "execution_count": null,
      "outputs": [
        {
          "output_type": "stream",
          "name": "stdout",
          "text": [
            "['안산', '공고', 3100, 777]\n"
          ]
        }
      ]
    },
    {
      "cell_type": "code",
      "source": [
        "import random\n",
        "\n",
        "wiseSay = [\"에이제곱 곱하기 비제곱은 씨제곱\"]\n",
        "\n",
        "rnd_say = random.randint(0, len(wiseSay)-1)\n",
        "print(\"오늘의 명언 ==> \", wiseSay[rnd_say])"
      ],
      "metadata": {
        "colab": {
          "base_uri": "https://localhost:8080/"
        },
        "id": "nv4JnVFXunG0",
        "outputId": "eff38b94-2186-47f3-ef50-cba084fe71eb"
      },
      "execution_count": null,
      "outputs": [
        {
          "output_type": "stream",
          "name": "stdout",
          "text": [
            "오늘의 명언 ==>  죽음은 바람과 같지 늘 내 곁에 있으니\n"
          ]
        }
      ]
    },
    {
      "cell_type": "code",
      "source": [
        "import datetime\n",
        "\n",
        "now = datetime.date.today()\n",
        "d_day = datetime.date(2021,3,2)\n",
        "d_day = d_day - now\n",
        "print(d_day.days)"
      ],
      "metadata": {
        "colab": {
          "base_uri": "https://localhost:8080/"
        },
        "id": "j49D0R0tyOc_",
        "outputId": "83a48c2e-92f0-4f61-beb5-9299b9022865"
      },
      "execution_count": null,
      "outputs": [
        {
          "output_type": "stream",
          "name": "stdout",
          "text": [
            "-769\n"
          ]
        }
      ]
    }
  ]
}