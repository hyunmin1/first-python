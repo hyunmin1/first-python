{
  "nbformat": 4,
  "nbformat_minor": 0,
  "metadata": {
    "colab": {
      "provenance": [],
      "authorship_tag": "ABX9TyNOvhNd1uKm0UJiCXpQUka6",
      "include_colab_link": true
    },
    "kernelspec": {
      "name": "python3",
      "display_name": "Python 3"
    },
    "language_info": {
      "name": "python"
    }
  },
  "cells": [
    {
      "cell_type": "markdown",
      "metadata": {
        "id": "view-in-github",
        "colab_type": "text"
      },
      "source": [
        "<a href=\"https://colab.research.google.com/github/hyunmin1/first-python/blob/main/%EA%B3%BC%EC%A0%9C1.ipynb\" target=\"_parent\"><img src=\"https://colab.research.google.com/assets/colab-badge.svg\" alt=\"Open In Colab\"/></a>"
      ]
    },
    {
      "cell_type": "code",
      "execution_count": 1,
      "metadata": {
        "colab": {
          "base_uri": "https://localhost:8080/"
        },
        "id": "x2NwlU99GayX",
        "outputId": "72df47be-1c7a-49c7-e959-432d905a7065"
      },
      "outputs": [
        {
          "output_type": "stream",
          "name": "stdout",
          "text": [
            "오늘은 금요일\n",
            "나혼자 심심해\n"
          ]
        }
      ],
      "source": [
        "print(\"오늘은 금요일\")\n",
        "print(\"나혼자 심심해\")\n"
      ]
    },
    {
      "cell_type": "code",
      "source": [
        "print(\"제 택배를 보내기 위한 정보를 입력하세요.##\")\n",
        "receive_name = input(\"받는 사람 : \")\n",
        "address = input(\"주소 : \")\n",
        "weight =  int(input(\"무게(g) : \"))\n",
        "print(\"받는 사람 ==>\", receive_name)\n",
        "print(\"주소 ==>\", address)\n",
        "print(\"배송비 ==> \", weight*5)"
      ],
      "metadata": {
        "colab": {
          "base_uri": "https://localhost:8080/"
        },
        "id": "Dzi5Lhd3Gqnu",
        "outputId": "dd5c268a-5ac2-4977-adb6-babf927a045d"
      },
      "execution_count": 7,
      "outputs": [
        {
          "output_type": "stream",
          "name": "stdout",
          "text": [
            "제 택배를 보내기 위한 정보를 입력하세요.##\n",
            "받는 사람 : 2\n",
            "주소 : 봉\n",
            "무게(g) : 2\n",
            "받는 사람 ==> 2\n",
            "주소 ==> 봉\n",
            "배송비 ==>  10\n"
          ]
        }
      ]
    },
    {
      "cell_type": "code",
      "source": [],
      "metadata": {
        "id": "2Y3U7V2XG0M1"
      },
      "execution_count": null,
      "outputs": []
    }
  ]
}