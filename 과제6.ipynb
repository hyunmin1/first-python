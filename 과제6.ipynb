{
  "nbformat": 4,
  "nbformat_minor": 0,
  "metadata": {
    "colab": {
      "provenance": [],
      "include_colab_link": true
    },
    "kernelspec": {
      "name": "python3",
      "display_name": "Python 3"
    },
    "language_info": {
      "name": "python"
    }
  },
  "cells": [
    {
      "cell_type": "markdown",
      "metadata": {
        "id": "view-in-github",
        "colab_type": "text"
      },
      "source": [
        "<a href=\"https://colab.research.google.com/github/hyunmin1/first-python/blob/main/%EA%B3%BC%EC%A0%9C6.ipynb\" target=\"_parent\"><img src=\"https://colab.research.google.com/assets/colab-badge.svg\" alt=\"Open In Colab\"/></a>"
      ]
    },
    {
      "cell_type": "code",
      "execution_count": null,
      "metadata": {
        "colab": {
          "base_uri": "https://localhost:8080/"
        },
        "id": "9n4TGUB3NrSF",
        "outputId": "761ef90e-be23-4f61-972d-977855c1f3c7"
      },
      "outputs": [
        {
          "output_type": "stream",
          "name": "stdout",
          "text": [
            "원본 문자열 :  트 와 이 스\n",
            "반대 문자열 :  스 이 와 트\n"
          ]
        }
      ],
      "source": [
        "singer = [\"트\", \"와\", \"이\", \"스\"]\n",
        "reverse_singer = [\"트\", \"와\", \"이\", \"스\"]\n",
        "\n",
        "print(\"원본 문자열 : \", singer[0], singer[1], singer[2], singer[3])\n",
        "print(\"반대 문자열 : \", reverse_singer[3], reverse_singer[2], reverse_singer [1], reverse_singer[0])\n"
      ]
    },
    {
      "cell_type": "code",
      "source": [],
      "metadata": {
        "id": "o_TU2kf8UWlH"
      },
      "execution_count": null,
      "outputs": []
    },
    {
      "cell_type": "code",
      "source": [
        "singer = \"트와이스\" \n",
        "\n",
        "print(\"원본 문자열 : \", singer)\n",
        "print(\"반대 문자열 : \", singer[::-1])"
      ],
      "metadata": {
        "colab": {
          "base_uri": "https://localhost:8080/"
        },
        "id": "wBTWwO0yPkeO",
        "outputId": "65253371-f731-4c01-a5f5-8c95be7e4ec9"
      },
      "execution_count": null,
      "outputs": [
        {
          "output_type": "stream",
          "name": "stdout",
          "text": [
            "원본 문자열 :  트와이스\n",
            "반대 문자열 :  스이와트\n"
          ]
        }
      ]
    },
    {
      "cell_type": "code",
      "source": [
        "Singer = \"Python\"\n",
        "resultSinger = \"\"\n",
        "print(\"원본 문자열 : \", Singer)\n",
        "\n",
        "resultSinger += Singer[0].lower()\n",
        "resultSinger += Singer[1].upper()\n",
        "resultSinger += Singer[2].upper()\n",
        "resultSinger += Singer[3].upper()\n",
        "resultSinger += Singer[4].upper()\n",
        "resultSinger += Singer[5].upper()\n",
        "\n",
        "print(\"반대 문자열 : \", end='')\n",
        "print(resultSinger)"
      ],
      "metadata": {
        "colab": {
          "base_uri": "https://localhost:8080/",
          "height": 247
        },
        "id": "IDwRACzTQ3Hm",
        "outputId": "4c3b6f1f-ce75-4e95-f00b-02a9748bdef8"
      },
      "execution_count": null,
      "outputs": [
        {
          "output_type": "error",
          "ename": "TypeError",
          "evalue": "ignored",
          "traceback": [
            "\u001b[0;31m---------------------------------------------------------------------------\u001b[0m",
            "\u001b[0;31mTypeError\u001b[0m                                 Traceback (most recent call last)",
            "\u001b[0;32m<ipython-input-31-5ab5a71188a9>\u001b[0m in \u001b[0;36m<module>\u001b[0;34m\u001b[0m\n\u001b[1;32m      1\u001b[0m \u001b[0mSinger\u001b[0m \u001b[0;34m=\u001b[0m \u001b[0;34m\"Python\"\u001b[0m\u001b[0;34m\u001b[0m\u001b[0;34m\u001b[0m\u001b[0m\n\u001b[1;32m      2\u001b[0m \u001b[0mresultSinger\u001b[0m \u001b[0;34m=\u001b[0m \u001b[0;34m\"\"\u001b[0m\u001b[0;34m\u001b[0m\u001b[0;34m\u001b[0m\u001b[0m\n\u001b[0;32m----> 3\u001b[0;31m \u001b[0mprint\u001b[0m\u001b[0;34m(\u001b[0m\u001b[0;34m\"원본 문자열 : \"\u001b[0m\u001b[0;34m,\u001b[0m \u001b[0mSinger\u001b[0m\u001b[0;34m)\u001b[0m\u001b[0;34m\u001b[0m\u001b[0;34m\u001b[0m\u001b[0m\n\u001b[0m\u001b[1;32m      4\u001b[0m \u001b[0;34m\u001b[0m\u001b[0m\n\u001b[1;32m      5\u001b[0m \u001b[0mresultSinger\u001b[0m \u001b[0;34m+=\u001b[0m \u001b[0mSinger\u001b[0m\u001b[0;34m[\u001b[0m\u001b[0;36m0\u001b[0m\u001b[0;34m]\u001b[0m\u001b[0;34m.\u001b[0m\u001b[0mlower\u001b[0m\u001b[0;34m(\u001b[0m\u001b[0;34m)\u001b[0m\u001b[0;34m\u001b[0m\u001b[0;34m\u001b[0m\u001b[0m\n",
            "\u001b[0;31mTypeError\u001b[0m: 'list' object is not callable"
          ]
        }
      ]
    }
  ]
}