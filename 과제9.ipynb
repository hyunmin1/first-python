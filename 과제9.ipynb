{
  "nbformat": 4,
  "nbformat_minor": 0,
  "metadata": {
    "colab": {
      "provenance": [],
      "authorship_tag": "ABX9TyNjr9D61aG84kMRXikFxy/6",
      "include_colab_link": true
    },
    "kernelspec": {
      "name": "python3",
      "display_name": "Python 3"
    },
    "language_info": {
      "name": "python"
    }
  },
  "cells": [
    {
      "cell_type": "markdown",
      "metadata": {
        "id": "view-in-github",
        "colab_type": "text"
      },
      "source": [
        "<a href=\"https://colab.research.google.com/github/hyunmin1/first-python/blob/main/%EA%B3%BC%EC%A0%9C9.ipynb\" target=\"_parent\"><img src=\"https://colab.research.google.com/assets/colab-badge.svg\" alt=\"Open In Colab\"/></a>"
      ]
    },
    {
      "cell_type": "code",
      "execution_count": 5,
      "metadata": {
        "colab": {
          "base_uri": "https://localhost:8080/"
        },
        "id": "_kRzGOe_dUYw",
        "outputId": "084d6194-f1ca-4bf3-d40a-c1fc4a09cb61"
      },
      "outputs": [
        {
          "output_type": "stream",
          "name": "stdout",
          "text": [
            "0 컴퓨터과 3학년 1반\n",
            "1 컴퓨터과 3학년 1반\n",
            "2 컴퓨터과 3학년 1반\n"
          ]
        }
      ],
      "source": [
        "for i in range(0,3,1):\n",
        "  print(i,\"컴퓨터과 3학년 1반\")\n"
      ]
    },
    {
      "cell_type": "code",
      "source": [
        "for i in [0,1,2,3,4] :\n",
        "   print(i,\"컴퓨터과 3학년 1반\")"
      ],
      "metadata": {
        "colab": {
          "base_uri": "https://localhost:8080/"
        },
        "id": "9UYujfE_eM7R",
        "outputId": "f087b13f-06c5-4c14-999e-0339a49b9301"
      },
      "execution_count": 10,
      "outputs": [
        {
          "output_type": "stream",
          "name": "stdout",
          "text": [
            "0 컴퓨터과 3학년 1반\n",
            "1 컴퓨터과 3학년 1반\n",
            "2 컴퓨터과 3학년 1반\n",
            "3 컴퓨터과 3학년 1반\n",
            "4 컴퓨터과 3학년 1반\n"
          ]
        }
      ]
    },
    {
      "cell_type": "code",
      "source": [
        "for i in [\"봄\",\"여름\",\"가을\",\"겨울\"] :\n",
        "   print(i,\"컴퓨터과 3학년 1반\")"
      ],
      "metadata": {
        "colab": {
          "base_uri": "https://localhost:8080/"
        },
        "id": "boAvSYEOdWzr",
        "outputId": "5fe97bd8-5305-4a04-aa25-fa05d894b2e9"
      },
      "execution_count": 12,
      "outputs": [
        {
          "output_type": "stream",
          "name": "stdout",
          "text": [
            "봄 컴퓨터과 3학년 1반\n",
            "여름 컴퓨터과 3학년 1반\n",
            "가을 컴퓨터과 3학년 1반\n",
            "겨울 컴퓨터과 3학년 1반\n"
          ]
        }
      ]
    },
    {
      "cell_type": "code",
      "source": [
        "for i in range(0,11,1):\n",
        "  print(i,\"컴퓨터과\")"
      ],
      "metadata": {
        "colab": {
          "base_uri": "https://localhost:8080/"
        },
        "id": "S7SCZZcpeqWJ",
        "outputId": "a51f6608-f065-40ee-ee30-f6ae9f042f64"
      },
      "execution_count": 13,
      "outputs": [
        {
          "output_type": "stream",
          "name": "stdout",
          "text": [
            "0 컴퓨터과\n",
            "1 컴퓨터과\n",
            "2 컴퓨터과\n",
            "3 컴퓨터과\n",
            "4 컴퓨터과\n",
            "5 컴퓨터과\n",
            "6 컴퓨터과\n",
            "7 컴퓨터과\n",
            "8 컴퓨터과\n",
            "9 컴퓨터과\n",
            "10 컴퓨터과\n"
          ]
        }
      ]
    },
    {
      "cell_type": "code",
      "source": [
        "for i in range(2,6,1):\n",
        "  print(i, end=\" \")"
      ],
      "metadata": {
        "colab": {
          "base_uri": "https://localhost:8080/"
        },
        "id": "p51pMMdfet3p",
        "outputId": "dd377c7c-75e3-4709-fa1c-3fbbd4e91805"
      },
      "execution_count": 15,
      "outputs": [
        {
          "output_type": "stream",
          "name": "stdout",
          "text": [
            "2 3 4 5 "
          ]
        }
      ]
    },
    {
      "cell_type": "code",
      "source": [
        "result = 1\n",
        "\n",
        "for i in range(1,6,1):\n",
        "  result = result + 1\n",
        "\n",
        "  print(\"A,B,C,D,E 학생들을 세우는 경우의 수\", result)\n"
      ],
      "metadata": {
        "colab": {
          "base_uri": "https://localhost:8080/"
        },
        "id": "JTV04fAKfG4Y",
        "outputId": "2c88ad98-37c2-474a-9dcb-601d0b3ccf70"
      },
      "execution_count": 17,
      "outputs": [
        {
          "output_type": "stream",
          "name": "stdout",
          "text": [
            "A,B,C,D,E 학생들을 세우는 경우의 수 2\n",
            "A,B,C,D,E 학생들을 세우는 경우의 수 3\n",
            "A,B,C,D,E 학생들을 세우는 경우의 수 4\n",
            "A,B,C,D,E 학생들을 세우는 경우의 수 5\n",
            "A,B,C,D,E 학생들을 세우는 경우의 수 6\n"
          ]
        }
      ]
    },
    {
      "cell_type": "code",
      "source": [
        "sum = 0\n",
        "for i in range(1,1001,1):\n",
        "    sum = sum+i\n",
        "print(sum)"
      ],
      "metadata": {
        "colab": {
          "base_uri": "https://localhost:8080/"
        },
        "id": "7AiMumonhzMq",
        "outputId": "4f9ddb96-64aa-4c71-9ca1-1f2c45c3b6d3"
      },
      "execution_count": 18,
      "outputs": [
        {
          "output_type": "stream",
          "name": "stdout",
          "text": [
            "500500\n"
          ]
        }
      ]
    },
    {
      "cell_type": "code",
      "source": [
        "odd_sum = 0\n",
        "for i in range(1001,2001,2):\n",
        "  odd_sum = odd_sum + i\n",
        "print(odd_sum)"
      ],
      "metadata": {
        "colab": {
          "base_uri": "https://localhost:8080/"
        },
        "id": "YYVoMQfziq3q",
        "outputId": "440013ce-bfe2-4941-fa68-3b22f0e65771"
      },
      "execution_count": 24,
      "outputs": [
        {
          "output_type": "stream",
          "name": "stdout",
          "text": [
            "750000\n"
          ]
        }
      ]
    },
    {
      "cell_type": "code",
      "source": [
        "i, hap = 0,0\n",
        "for i in range(500,1001,2) :\n",
        "     hap += i\n",
        "print(\"500에서 1000사이까지의 짝수의 합 : \",hap)\n"
      ],
      "metadata": {
        "colab": {
          "base_uri": "https://localhost:8080/"
        },
        "id": "F9yM5xjsj4kS",
        "outputId": "55dbf6da-fd78-4cea-eb1f-f30a1e966b5d"
      },
      "execution_count": 29,
      "outputs": [
        {
          "output_type": "stream",
          "name": "stdout",
          "text": [
            "500에서 1000사이까지의 짝수의 합 :  188250\n"
          ]
        }
      ]
    },
    {
      "cell_type": "code",
      "source": [],
      "metadata": {
        "id": "krhOhAkex9-J"
      },
      "execution_count": null,
      "outputs": []
    },
    {
      "cell_type": "code",
      "source": [],
      "metadata": {
        "id": "X4dm_tDCx-M5"
      },
      "execution_count": null,
      "outputs": []
    }
  ]
}