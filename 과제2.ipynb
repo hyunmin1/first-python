{
  "nbformat": 4,
  "nbformat_minor": 0,
  "metadata": {
    "colab": {
      "provenance": [],
      "authorship_tag": "ABX9TyPZCFYOHk8hcyLRsGvyLlt1",
      "include_colab_link": true
    },
    "kernelspec": {
      "name": "python3",
      "display_name": "Python 3"
    },
    "language_info": {
      "name": "python"
    }
  },
  "cells": [
    {
      "cell_type": "markdown",
      "metadata": {
        "id": "view-in-github",
        "colab_type": "text"
      },
      "source": [
        "<a href=\"https://colab.research.google.com/github/hyunmin1/first-python/blob/main/%EA%B3%BC%EC%A0%9C2.ipynb\" target=\"_parent\"><img src=\"https://colab.research.google.com/assets/colab-badge.svg\" alt=\"Open In Colab\"/></a>"
      ]
    },
    {
      "cell_type": "code",
      "execution_count": null,
      "metadata": {
        "id": "zY6QZBSBGz7k"
      },
      "outputs": [],
      "source": [
        "\n",
        "num1 = int(input(\"숫자1 ==> \"))\n",
        "num2 = int(input(\"숫자2 ==> \"))\n",
        "print(num1, \"+\",num2, \"=\", num1+num2)\n",
        "print(num1, \"-\",num2, \"=\", num1-num2)\n",
        "print(num1, \"*\",num2, \"=\", num1*num2)\n",
        "print(num1, \"/\",num2, \"=\", float (num1/num2))\n",
        "print(num1, \"%\",num2, \"=\", num1%num2)\n",
        "print(num1, \"**\",num2, \"=\", num1**num2)"
      ]
    },
    {
      "cell_type": "code",
      "source": [],
      "metadata": {
        "id": "1MZUusBaKtVv"
      },
      "execution_count": null,
      "outputs": []
    }
  ]
}