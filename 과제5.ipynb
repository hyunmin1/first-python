{
  "nbformat": 4,
  "nbformat_minor": 0,
  "metadata": {
    "colab": {
      "provenance": [],
      "authorship_tag": "ABX9TyMZcS8XSDcswG48ZpdfOioE",
      "include_colab_link": true
    },
    "kernelspec": {
      "name": "python3",
      "display_name": "Python 3"
    },
    "language_info": {
      "name": "python"
    }
  },
  "cells": [
    {
      "cell_type": "markdown",
      "metadata": {
        "id": "view-in-github",
        "colab_type": "text"
      },
      "source": [
        "<a href=\"https://colab.research.google.com/github/hyunmin1/first-python/blob/main/%EA%B3%BC%EC%A0%9C5.ipynb\" target=\"_parent\"><img src=\"https://colab.research.google.com/assets/colab-badge.svg\" alt=\"Open In Colab\"/></a>"
      ]
    },
    {
      "cell_type": "code",
      "execution_count": null,
      "metadata": {
        "id": "Pyirf92FWxsi"
      },
      "outputs": [],
      "source": [
        "score = int(input(\"정보처리기능사 실기 점수 입력 : \"))\n",
        "\n",
        "if score >= 60 :\n",
        "  print(\"합격\")\n",
        "  print(\"축하합니다.\")\n",
        "  else :\n",
        "    print(\"불합격\")"
      ]
    },
    {
      "cell_type": "code",
      "source": [
        "#한줄 주석문 연습\n",
        "\"\"\"\n",
        "프로그래밍 수업 : 3월 20일\n",
        "프로그래머 : 봉현민\n",
        "프로그램 최종 작성일 : 3월 20일\n",
        "\"\"\"\n",
        "print( \"파이썬(3) : B(3.5)\\n\")\n",
        "print(\"모바일(2) : A(4.0)\\n\")\n",
        "print(\"엑셀(1) : A(4.5)\")\n",
        "python = float(input(\"파이썬 설적을 입력(예,3.5)\"))\n",
        "mobile = float(input(\"모바일 성적을 입력 : \"))\n",
        "excel = float(input(\"엑셀 성적을 입력 : \"))\n",
        "\n",
        "result = (python * 3) + (mobile * 2) + excel\n",
        "avg = result / 6\n",
        "\n",
        "print(\"평균 학점은 \", round(avg, 3))"
      ],
      "metadata": {
        "id": "VcH1TyR1YdYw",
        "colab": {
          "base_uri": "https://localhost:8080/"
        },
        "outputId": "7e240689-4308-43df-c303-668559a6a172"
      },
      "execution_count": 3,
      "outputs": [
        {
          "output_type": "stream",
          "name": "stdout",
          "text": [
            "파이썬(3) : B(3.5)\n",
            "\n",
            "모바일(2) : A(4.0)\n",
            "\n",
            "엑셀(1) : A(4.5)\n",
            "파이썬 설적을 입력(예,3.5)56\n",
            "모바일 성적을 입력 : 74\n",
            "엑셀 성적을 입력 : 75\n",
            "평균 학점은  65.167\n"
          ]
        }
      ]
    },
    {
      "cell_type": "code",
      "source": [
        "print(\"\\n줄바꿈\\n연습 \")\n",
        "print(\"\\t탭키\\t연습\")\n",
        "print(\"어떤 글자를 \\\"강조\\\"하는 효과1\")\n",
        "print(\"어떤 글자를 \\'강조\\'하는 효과2\")\n",
        "print(\"\\\\\\\\ 백슬래시 2개 출력\")"
      ],
      "metadata": {
        "colab": {
          "base_uri": "https://localhost:8080/"
        },
        "id": "GZjIPWGLbLpp",
        "outputId": "b719066f-4715-4672-fb0e-8f327b82c5cc"
      },
      "execution_count": 4,
      "outputs": [
        {
          "output_type": "stream",
          "name": "stdout",
          "text": [
            "\n",
            "줄바꿈\n",
            "연습 \n",
            "\t탭키\t연습\n",
            "어떤 글자를 \"강조\"하는 효과1\n",
            "어떤 글자를 '강조'하는 효과2\n",
            "\\\\ 백슬래시 2개 출력\n"
          ]
        }
      ]
    },
    {
      "cell_type": "code",
      "source": [
        "firstString = input(\"첫번째 문자열 : \")\n",
        "secondString = input(\"두번쨰 문자열 : \")\n",
        "\n",
        "length = len(firstString) - len(secondString)\n",
        "print(length)"
      ],
      "metadata": {
        "colab": {
          "base_uri": "https://localhost:8080/"
        },
        "id": "U27aWk8Ge8n6",
        "outputId": "31111f93-d0a1-4aab-db9c-354e63ada2fc"
      },
      "execution_count": 6,
      "outputs": [
        {
          "output_type": "stream",
          "name": "stdout",
          "text": [
            "첫번째 문자열 : 1\n",
            "두번쨰 문자열 : 2\n",
            "0\n"
          ]
        }
      ]
    },
    {
      "cell_type": "code",
      "source": [
        "str1 = \"\"\"\n",
        "안산공업고등학교 컴퓨터과, 안산공업고등학교는\n",
        "기계과, 전자과, 전기과, 화공과, 디자인과, 컴퓨터과로 총 6개의\n",
        "과로 이루어져있습니다\n",
        "\"\"\"\n",
        "strLen = str1.count(\"안산\")\n",
        "print(strLen)\n"
      ],
      "metadata": {
        "colab": {
          "base_uri": "https://localhost:8080/"
        },
        "id": "zSj4RRXngWk0",
        "outputId": "a51533ff-f35b-4f14-e01f-d8d234815e93"
      },
      "execution_count": 12,
      "outputs": [
        {
          "output_type": "stream",
          "name": "stdout",
          "text": [
            "2\n"
          ]
        }
      ]
    },
    {
      "cell_type": "code",
      "source": [
        "#Let it be 가사가 몇번 나오는지 확인하는 프로그램\n",
        "#upper(), lower()\n",
        "\n",
        "lyrics = \"\"\"\n",
        "When I find myself in times of trouble, Mother Mary comes to me\n",
        "Speaking words of wisdom, let it be\n",
        "And in my hour of darkness she is standing right in front of me\n",
        "Speaking words of wisdom, let it be\n",
        "Let it be, let it be, let it be, let it be\n",
        "Whisper words of wisdom, let it be\n",
        "And when the broken hearted people living in the world agree\n",
        "There will be an answer, let it be\n",
        "For though they may be parted, there is still a chance that they will see\n",
        "There will be an answer, let it be\n",
        "Let it be, let it be, let it be, let it be\n",
        "There will be an answer, let it be\n",
        "Let it be, let it be, let it be, let it be\n",
        "Whisper words of wisdom, let it be\n",
        "Let it be, let it be, let it be, let it be\n",
        "Whisper words of wisdom, let it be, be\n",
        "And when the night is cloudy there is still a light that shines on me\n",
        "Shinin' until tomorrow, let it be\n",
        "I wake up to the sound of music, Mother Mary comes to me\n",
        "Speaking words of wisdom, let it be\n",
        "And let it be, let it be, let it be, let it be\n",
        "Whisper words of wisdom, let it be\n",
        "And let it be, let it be, let it be, let it be\n",
        "Whisper words of wisdom, let it be\n",
        "\"\"\"\n",
        "\n",
        "lyrics = lyrics.upper()\n",
        "strLen = lyrics.count(\"LET IT BE\")\n",
        "print(\"Let it be는 총 \" , strLen,\"번 나옵니다.\")\n"
      ],
      "metadata": {
        "colab": {
          "base_uri": "https://localhost:8080/"
        },
        "id": "ncaBL7l7k9Tj",
        "outputId": "3bdc31c3-c23d-48ff-f5f5-5dce3d08edd3"
      },
      "execution_count": 9,
      "outputs": [
        {
          "output_type": "stream",
          "name": "stdout",
          "text": [
            "Let it be는 총  36 번 나옵니다.\n"
          ]
        }
      ]
    }
  ]
}