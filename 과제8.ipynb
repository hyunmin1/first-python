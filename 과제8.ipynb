{
  "nbformat": 4,
  "nbformat_minor": 0,
  "metadata": {
    "colab": {
      "provenance": [],
      "include_colab_link": true
    },
    "kernelspec": {
      "name": "python3",
      "display_name": "Python 3"
    },
    "language_info": {
      "name": "python"
    }
  },
  "cells": [
    {
      "cell_type": "markdown",
      "metadata": {
        "id": "view-in-github",
        "colab_type": "text"
      },
      "source": [
        "<a href=\"https://colab.research.google.com/github/hyunmin1/first-python/blob/main/%EA%B3%BC%EC%A0%9C8.ipynb\" target=\"_parent\"><img src=\"https://colab.research.google.com/assets/colab-badge.svg\" alt=\"Open In Colab\"/></a>"
      ]
    },
    {
      "cell_type": "code",
      "execution_count": null,
      "metadata": {
        "colab": {
          "base_uri": "https://localhost:8080/"
        },
        "id": "PPFOx7JDX0_U",
        "outputId": "e5ad7808-0a6d-4ef8-8b73-915dbd724402"
      },
      "outputs": [
        {
          "output_type": "stream",
          "name": "stdout",
          "text": [
            "28\n"
          ]
        }
      ],
      "source": [
        "import random\n",
        "\n",
        "randomNumber = random.randint(1,45)\n",
        "\n",
        "print(randomNumber)"
      ]
    },
    {
      "cell_type": "code",
      "source": [
        "import random\n",
        "lottoNumber = [0,0,0,0,0,0,]\n",
        "\n",
        "for i in range(6):\n",
        "  lottoNumber[i] = random.randint(1,45)\n",
        "for i in range(6):\n",
        "  print(lottoNumber[i], end=\" \")"
      ],
      "metadata": {
        "colab": {
          "base_uri": "https://localhost:8080/"
        },
        "id": "M5PwYZlVZBG9",
        "outputId": "343a90f5-052e-40ee-c0f1-3b6b6d7652ec"
      },
      "execution_count": null,
      "outputs": [
        {
          "output_type": "stream",
          "name": "stdout",
          "text": [
            "29 32 25 11 25 29 "
          ]
        }
      ]
    },
    {
      "cell_type": "code",
      "source": [
        "import random\n",
        "\n",
        "foods = [\"떡볶이\", \"순대\", \"소고기\", \"쿠키\", \"라면\"]\n",
        "\n",
        "result = random.choice(foods)\n",
        "\n",
        "print(result)"
      ],
      "metadata": {
        "colab": {
          "base_uri": "https://localhost:8080/"
        },
        "id": "P2Q43TRRcauN",
        "outputId": "6bf29759-ad80-43b7-ba67-55937edd5100"
      },
      "execution_count": null,
      "outputs": [
        {
          "output_type": "stream",
          "name": "stdout",
          "text": [
            "소고기\n"
          ]
        }
      ]
    },
    {
      "cell_type": "code",
      "source": [
        "import random\n",
        "\n",
        "computer = \"\"\n",
        "\n",
        "player = input(\"나의 가위/바위/보 : \")\n",
        "computer = random.choice([\"가위\", \"바위\", \"보\"])\n",
        "if player == computer :\n",
        "  print(computer, \"비겼다.\")\n",
        "elif (player == \"가위\" and computer == \"바위\") or \\\n",
        "(player == \"바위\" and computer == \"보\") or \\\n",
        "(player == \"보\" and computer == \"가위\") :\n",
        "  print(computer, \"졌다.\")\n",
        "else :\n",
        "  print(computer, \"이겼다.\")\n",
        "print(player, computer)"
      ],
      "metadata": {
        "colab": {
          "base_uri": "https://localhost:8080/"
        },
        "id": "wXZRsbEfc_hM",
        "outputId": "b1e36ed7-ce34-4658-c6aa-7b566f71f4cd"
      },
      "execution_count": null,
      "outputs": [
        {
          "output_type": "stream",
          "name": "stdout",
          "text": [
            "나의 가위/바위/보 : 보\n",
            "바위 이겼다.\n",
            "보 바위\n"
          ]
        }
      ]
    }
  ]
}