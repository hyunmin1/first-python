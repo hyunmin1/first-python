{
  "nbformat": 4,
  "nbformat_minor": 0,
  "metadata": {
    "colab": {
      "provenance": [],
      "authorship_tag": "ABX9TyPyAIqE8d+blg/09VPW1kzZ",
      "include_colab_link": true
    },
    "kernelspec": {
      "name": "python3",
      "display_name": "Python 3"
    },
    "language_info": {
      "name": "python"
    }
  },
  "cells": [
    {
      "cell_type": "markdown",
      "metadata": {
        "id": "view-in-github",
        "colab_type": "text"
      },
      "source": [
        "<a href=\"https://colab.research.google.com/github/hyunmin1/first-python/blob/main/%EA%B3%BC%EC%A0%9C3.ipynb\" target=\"_parent\"><img src=\"https://colab.research.google.com/assets/colab-badge.svg\" alt=\"Open In Colab\"/></a>"
      ]
    },
    {
      "cell_type": "code",
      "execution_count": 6,
      "metadata": {
        "colab": {
          "base_uri": "https://localhost:8080/"
        },
        "id": "2ld_2s6PNJDs",
        "outputId": "945f3e92-fd93-4ce5-da2c-2033d143c600"
      },
      "outputs": [
        {
          "output_type": "stream",
          "name": "stdout",
          "text": [
            "파운드를 입력 : 12\n",
            "12.0 파운드는 5.44310 킬로그램입니다.\n"
          ]
        }
      ],
      "source": [
        "pound = float(input(\"파운드를 입력 : \" ))\n",
        "kg = pound * 0.453592\n",
        "print(f\"{pound:.1f} 파운드는 {kg:.5f} 킬로그램입니다.\")"
      ]
    }
  ]
}